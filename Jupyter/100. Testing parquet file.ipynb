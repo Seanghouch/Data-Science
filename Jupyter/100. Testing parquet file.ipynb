{
 "cells": [
  {
   "cell_type": "code",
   "execution_count": 1,
   "id": "3c6486a2",
   "metadata": {},
   "outputs": [],
   "source": [
    "import pandas as pd\n",
    "import numpy as np\n",
    "import gzip\n",
    "import pyarrow as pa"
   ]
  },
  {
   "cell_type": "code",
   "execution_count": 2,
   "id": "b7403b54",
   "metadata": {},
   "outputs": [],
   "source": [
    "def get_dataset(size):\n",
    "    # Create Fake Dataset\n",
    "    df = pd.DataFrame()\n",
    "    df['size'] = np.random.choice(['big','medium','small'], size)\n",
    "    df['age'] = np.random.randint(1, 50, size)\n",
    "    df['team'] = np.random.choice(['red','blue','yellow','green'], size)\n",
    "    df['win'] = np.random.choice(['yes','no'], size)\n",
    "    dates = pd.date_range('2020-01-01', '2022-12-31')\n",
    "    df['date'] = np.random.choice(dates, size)\n",
    "    df['prob'] = np.random.uniform(0, 1, size)\n",
    "    return df"
   ]
  },
  {
   "cell_type": "code",
   "execution_count": 3,
   "id": "0df54f9e",
   "metadata": {},
   "outputs": [],
   "source": [
    "def set_dtypes(df):\n",
    "    df['size'] = df['size'].astype('category')\n",
    "    df['team'] = df['team'].astype('category')\n",
    "    df['age'] = df['age'].astype('int16')\n",
    "    df['win'] = df['win'].map({'yes':True, 'no': False})\n",
    "    df['prob'] = df['prob'].astype('float32')\n",
    "    return df"
   ]
  },
  {
   "cell_type": "code",
   "execution_count": 4,
   "id": "4b408de2",
   "metadata": {},
   "outputs": [
    {
     "name": "stdout",
     "output_type": "stream",
     "text": [
      "CPU times: total: 43.2 s\n",
      "Wall time: 43.5 s\n"
     ]
    },
    {
     "data": {
      "text/html": [
       "<div>\n",
       "<style scoped>\n",
       "    .dataframe tbody tr th:only-of-type {\n",
       "        vertical-align: middle;\n",
       "    }\n",
       "\n",
       "    .dataframe tbody tr th {\n",
       "        vertical-align: top;\n",
       "    }\n",
       "\n",
       "    .dataframe thead th {\n",
       "        text-align: right;\n",
       "    }\n",
       "</style>\n",
       "<table border=\"1\" class=\"dataframe\">\n",
       "  <thead>\n",
       "    <tr style=\"text-align: right;\">\n",
       "      <th></th>\n",
       "      <th>size</th>\n",
       "      <th>age</th>\n",
       "      <th>team</th>\n",
       "      <th>win</th>\n",
       "      <th>date</th>\n",
       "      <th>prob</th>\n",
       "    </tr>\n",
       "  </thead>\n",
       "  <tbody>\n",
       "    <tr>\n",
       "      <th>0</th>\n",
       "      <td>medium</td>\n",
       "      <td>33</td>\n",
       "      <td>red</td>\n",
       "      <td>False</td>\n",
       "      <td>2020-07-08</td>\n",
       "      <td>0.799731</td>\n",
       "    </tr>\n",
       "    <tr>\n",
       "      <th>1</th>\n",
       "      <td>small</td>\n",
       "      <td>34</td>\n",
       "      <td>green</td>\n",
       "      <td>True</td>\n",
       "      <td>2022-05-06</td>\n",
       "      <td>0.514919</td>\n",
       "    </tr>\n",
       "    <tr>\n",
       "      <th>2</th>\n",
       "      <td>medium</td>\n",
       "      <td>24</td>\n",
       "      <td>green</td>\n",
       "      <td>False</td>\n",
       "      <td>2022-11-11</td>\n",
       "      <td>0.731323</td>\n",
       "    </tr>\n",
       "    <tr>\n",
       "      <th>3</th>\n",
       "      <td>small</td>\n",
       "      <td>6</td>\n",
       "      <td>yellow</td>\n",
       "      <td>True</td>\n",
       "      <td>2020-10-30</td>\n",
       "      <td>0.840817</td>\n",
       "    </tr>\n",
       "    <tr>\n",
       "      <th>4</th>\n",
       "      <td>small</td>\n",
       "      <td>29</td>\n",
       "      <td>yellow</td>\n",
       "      <td>True</td>\n",
       "      <td>2020-11-17</td>\n",
       "      <td>0.962547</td>\n",
       "    </tr>\n",
       "  </tbody>\n",
       "</table>\n",
       "</div>"
      ],
      "text/plain": [
       "     size  age    team    win       date      prob\n",
       "0  medium   33     red  False 2020-07-08  0.799731\n",
       "1   small   34   green   True 2022-05-06  0.514919\n",
       "2  medium   24   green  False 2022-11-11  0.731323\n",
       "3   small    6  yellow   True 2020-10-30  0.840817\n",
       "4   small   29  yellow   True 2020-11-17  0.962547"
      ]
     },
     "execution_count": 4,
     "metadata": {},
     "output_type": "execute_result"
    }
   ],
   "source": [
    "%time df = get_dataset(100_000_000)\n",
    "df = set_dtypes(df)\n",
    "df.head()"
   ]
  },
  {
   "cell_type": "code",
   "execution_count": 7,
   "id": "617acad7",
   "metadata": {
    "scrolled": true
   },
   "outputs": [
    {
     "name": "stdout",
     "output_type": "stream",
     "text": [
      "writing CSV\n",
      "CPU times: total: 4min 22s\n",
      "Wall time: 4min 23s\n"
     ]
    }
   ],
   "source": [
    "print('writing CSV')\n",
    "%time df.to_csv('test.csv')"
   ]
  },
  {
   "cell_type": "code",
   "execution_count": 9,
   "id": "934d540b",
   "metadata": {},
   "outputs": [
    {
     "name": "stdout",
     "output_type": "stream",
     "text": [
      "Reading CSV\n",
      "CPU times: total: 48 s\n",
      "Wall time: 48 s\n"
     ]
    }
   ],
   "source": [
    "print('Reading CSV')\n",
    "%time df_csv = pd.read_csv('test.csv')"
   ]
  },
  {
   "cell_type": "code",
   "execution_count": 10,
   "id": "7ecc5d84",
   "metadata": {},
   "outputs": [
    {
     "name": "stdout",
     "output_type": "stream",
     "text": [
      "writing Pickle\n",
      "CPU times: total: 1.03 s\n",
      "Wall time: 1min 1s\n"
     ]
    }
   ],
   "source": [
    "print('writing Pickle')\n",
    "%time df.to_pickle('test.pickle')"
   ]
  },
  {
   "cell_type": "code",
   "execution_count": 11,
   "id": "3847b544",
   "metadata": {},
   "outputs": [
    {
     "name": "stdout",
     "output_type": "stream",
     "text": [
      "Reading Pickle\n",
      "CPU times: total: 422 ms\n",
      "Wall time: 427 ms\n"
     ]
    }
   ],
   "source": [
    "print('Reading Pickle')\n",
    "%time df_pickle = pd.read_pickle('test.pickle')"
   ]
  },
  {
   "cell_type": "code",
   "execution_count": 12,
   "id": "d2392f43",
   "metadata": {},
   "outputs": [
    {
     "name": "stdout",
     "output_type": "stream",
     "text": [
      "Requirement already satisfied: pyarrow in c:\\users\\seanghouch.ly\\appdata\\local\\programs\\python\\python311\\lib\\site-packages (15.0.0)\n",
      "Requirement already satisfied: numpy<2,>=1.16.6 in c:\\users\\seanghouch.ly\\appdata\\local\\programs\\python\\python311\\lib\\site-packages (from pyarrow) (1.24.3)\n",
      "Requirement already satisfied: fastparquet in c:\\users\\seanghouch.ly\\appdata\\local\\programs\\python\\python311\\lib\\site-packages (2023.10.1)\n",
      "Requirement already satisfied: pandas>=1.5.0 in c:\\users\\seanghouch.ly\\appdata\\local\\programs\\python\\python311\\lib\\site-packages (from fastparquet) (2.0.3)\n",
      "Requirement already satisfied: numpy>=1.20.3 in c:\\users\\seanghouch.ly\\appdata\\local\\programs\\python\\python311\\lib\\site-packages (from fastparquet) (1.24.3)\n",
      "Requirement already satisfied: cramjam>=2.3 in c:\\users\\seanghouch.ly\\appdata\\local\\programs\\python\\python311\\lib\\site-packages (from fastparquet) (2.8.1)\n",
      "Requirement already satisfied: fsspec in c:\\users\\seanghouch.ly\\appdata\\local\\programs\\python\\python311\\lib\\site-packages (from fastparquet) (2023.12.2)\n",
      "Requirement already satisfied: packaging in c:\\users\\seanghouch.ly\\appdata\\local\\programs\\python\\python311\\lib\\site-packages (from fastparquet) (23.1)\n",
      "Requirement already satisfied: python-dateutil>=2.8.2 in c:\\users\\seanghouch.ly\\appdata\\local\\programs\\python\\python311\\lib\\site-packages (from pandas>=1.5.0->fastparquet) (2.8.2)\n",
      "Requirement already satisfied: pytz>=2020.1 in c:\\users\\seanghouch.ly\\appdata\\local\\programs\\python\\python311\\lib\\site-packages (from pandas>=1.5.0->fastparquet) (2023.3)\n",
      "Requirement already satisfied: tzdata>=2022.1 in c:\\users\\seanghouch.ly\\appdata\\local\\programs\\python\\python311\\lib\\site-packages (from pandas>=1.5.0->fastparquet) (2023.3)\n",
      "Requirement already satisfied: six>=1.5 in c:\\users\\seanghouch.ly\\appdata\\local\\programs\\python\\python311\\lib\\site-packages (from python-dateutil>=2.8.2->pandas>=1.5.0->fastparquet) (1.16.0)\n"
     ]
    }
   ],
   "source": [
    "!pip install pyarrow\n",
    "!pip install fastparquet"
   ]
  },
  {
   "cell_type": "code",
   "execution_count": 12,
   "id": "a4023723",
   "metadata": {},
   "outputs": [
    {
     "name": "stdout",
     "output_type": "stream",
     "text": [
      "writing Parquet\n",
      "CPU times: total: 10.7 s\n",
      "Wall time: 10.1 s\n"
     ]
    }
   ],
   "source": [
    "print('writing Parquet')\n",
    "%time df.to_parquet('test.parquet')"
   ]
  },
  {
   "cell_type": "code",
   "execution_count": 29,
   "id": "d3c6e577",
   "metadata": {},
   "outputs": [
    {
     "name": "stdout",
     "output_type": "stream",
     "text": [
      "Reading Parquet\n",
      "CPU times: total: 10.9 s\n",
      "Wall time: 3.97 s\n"
     ]
    },
    {
     "data": {
      "text/html": [
       "<div>\n",
       "<style scoped>\n",
       "    .dataframe tbody tr th:only-of-type {\n",
       "        vertical-align: middle;\n",
       "    }\n",
       "\n",
       "    .dataframe tbody tr th {\n",
       "        vertical-align: top;\n",
       "    }\n",
       "\n",
       "    .dataframe thead th {\n",
       "        text-align: right;\n",
       "    }\n",
       "</style>\n",
       "<table border=\"1\" class=\"dataframe\">\n",
       "  <thead>\n",
       "    <tr style=\"text-align: right;\">\n",
       "      <th></th>\n",
       "      <th>size</th>\n",
       "      <th>age</th>\n",
       "      <th>team</th>\n",
       "      <th>win</th>\n",
       "      <th>date</th>\n",
       "      <th>prob</th>\n",
       "    </tr>\n",
       "  </thead>\n",
       "  <tbody>\n",
       "    <tr>\n",
       "      <th>0</th>\n",
       "      <td>medium</td>\n",
       "      <td>25</td>\n",
       "      <td>green</td>\n",
       "      <td>True</td>\n",
       "      <td>2021-04-22</td>\n",
       "      <td>0.342737</td>\n",
       "    </tr>\n",
       "    <tr>\n",
       "      <th>1</th>\n",
       "      <td>big</td>\n",
       "      <td>6</td>\n",
       "      <td>blue</td>\n",
       "      <td>True</td>\n",
       "      <td>2021-12-29</td>\n",
       "      <td>0.575536</td>\n",
       "    </tr>\n",
       "    <tr>\n",
       "      <th>2</th>\n",
       "      <td>medium</td>\n",
       "      <td>46</td>\n",
       "      <td>blue</td>\n",
       "      <td>True</td>\n",
       "      <td>2020-11-07</td>\n",
       "      <td>0.514036</td>\n",
       "    </tr>\n",
       "    <tr>\n",
       "      <th>3</th>\n",
       "      <td>big</td>\n",
       "      <td>9</td>\n",
       "      <td>yellow</td>\n",
       "      <td>False</td>\n",
       "      <td>2021-10-17</td>\n",
       "      <td>0.266284</td>\n",
       "    </tr>\n",
       "    <tr>\n",
       "      <th>4</th>\n",
       "      <td>small</td>\n",
       "      <td>30</td>\n",
       "      <td>red</td>\n",
       "      <td>True</td>\n",
       "      <td>2022-02-04</td>\n",
       "      <td>0.770092</td>\n",
       "    </tr>\n",
       "    <tr>\n",
       "      <th>...</th>\n",
       "      <td>...</td>\n",
       "      <td>...</td>\n",
       "      <td>...</td>\n",
       "      <td>...</td>\n",
       "      <td>...</td>\n",
       "      <td>...</td>\n",
       "    </tr>\n",
       "    <tr>\n",
       "      <th>99999995</th>\n",
       "      <td>big</td>\n",
       "      <td>16</td>\n",
       "      <td>green</td>\n",
       "      <td>True</td>\n",
       "      <td>2021-09-30</td>\n",
       "      <td>0.032252</td>\n",
       "    </tr>\n",
       "    <tr>\n",
       "      <th>99999996</th>\n",
       "      <td>medium</td>\n",
       "      <td>8</td>\n",
       "      <td>red</td>\n",
       "      <td>False</td>\n",
       "      <td>2022-12-30</td>\n",
       "      <td>0.659766</td>\n",
       "    </tr>\n",
       "    <tr>\n",
       "      <th>99999997</th>\n",
       "      <td>small</td>\n",
       "      <td>48</td>\n",
       "      <td>blue</td>\n",
       "      <td>True</td>\n",
       "      <td>2020-09-05</td>\n",
       "      <td>0.582637</td>\n",
       "    </tr>\n",
       "    <tr>\n",
       "      <th>99999998</th>\n",
       "      <td>medium</td>\n",
       "      <td>12</td>\n",
       "      <td>green</td>\n",
       "      <td>True</td>\n",
       "      <td>2022-11-05</td>\n",
       "      <td>0.088702</td>\n",
       "    </tr>\n",
       "    <tr>\n",
       "      <th>99999999</th>\n",
       "      <td>big</td>\n",
       "      <td>16</td>\n",
       "      <td>red</td>\n",
       "      <td>True</td>\n",
       "      <td>2021-11-06</td>\n",
       "      <td>0.507800</td>\n",
       "    </tr>\n",
       "  </tbody>\n",
       "</table>\n",
       "<p>100000000 rows × 6 columns</p>\n",
       "</div>"
      ],
      "text/plain": [
       "            size  age    team    win       date      prob\n",
       "0         medium   25   green   True 2021-04-22  0.342737\n",
       "1            big    6    blue   True 2021-12-29  0.575536\n",
       "2         medium   46    blue   True 2020-11-07  0.514036\n",
       "3            big    9  yellow  False 2021-10-17  0.266284\n",
       "4          small   30     red   True 2022-02-04  0.770092\n",
       "...          ...  ...     ...    ...        ...       ...\n",
       "99999995     big   16   green   True 2021-09-30  0.032252\n",
       "99999996  medium    8     red  False 2022-12-30  0.659766\n",
       "99999997   small   48    blue   True 2020-09-05  0.582637\n",
       "99999998  medium   12   green   True 2022-11-05  0.088702\n",
       "99999999     big   16     red   True 2021-11-06  0.507800\n",
       "\n",
       "[100000000 rows x 6 columns]"
      ]
     },
     "execution_count": 29,
     "metadata": {},
     "output_type": "execute_result"
    }
   ],
   "source": [
    "print('Reading Parquet')\n",
    "%time df_parquet = pd.read_parquet('test.parquet')\n",
    "# df_parquet"
   ]
  },
  {
   "cell_type": "code",
   "execution_count": 14,
   "id": "a132cbca",
   "metadata": {},
   "outputs": [
    {
     "name": "stdout",
     "output_type": "stream",
     "text": [
      "writing Parquet with gzip\n",
      "CPU times: total: 34.9 s\n",
      "Wall time: 35.9 s\n"
     ]
    }
   ],
   "source": [
    "print('writing Parquet with gzip')\n",
    "%time df.to_parquet('test.parquet.gz', compression='gzip')"
   ]
  },
  {
   "cell_type": "code",
   "execution_count": 28,
   "id": "bcbdf5a2",
   "metadata": {},
   "outputs": [
    {
     "name": "stdout",
     "output_type": "stream",
     "text": [
      "Reading Parquet with gzip\n",
      "CPU times: total: 6 s\n",
      "Wall time: 1.17 s\n"
     ]
    },
    {
     "data": {
      "text/html": [
       "<div>\n",
       "<style scoped>\n",
       "    .dataframe tbody tr th:only-of-type {\n",
       "        vertical-align: middle;\n",
       "    }\n",
       "\n",
       "    .dataframe tbody tr th {\n",
       "        vertical-align: top;\n",
       "    }\n",
       "\n",
       "    .dataframe thead th {\n",
       "        text-align: right;\n",
       "    }\n",
       "</style>\n",
       "<table border=\"1\" class=\"dataframe\">\n",
       "  <thead>\n",
       "    <tr style=\"text-align: right;\">\n",
       "      <th></th>\n",
       "      <th>size</th>\n",
       "      <th>age</th>\n",
       "      <th>team</th>\n",
       "      <th>win</th>\n",
       "      <th>date</th>\n",
       "      <th>prob</th>\n",
       "    </tr>\n",
       "  </thead>\n",
       "  <tbody>\n",
       "    <tr>\n",
       "      <th>0</th>\n",
       "      <td>medium</td>\n",
       "      <td>25</td>\n",
       "      <td>green</td>\n",
       "      <td>True</td>\n",
       "      <td>2021-04-22</td>\n",
       "      <td>0.342737</td>\n",
       "    </tr>\n",
       "    <tr>\n",
       "      <th>1</th>\n",
       "      <td>big</td>\n",
       "      <td>6</td>\n",
       "      <td>blue</td>\n",
       "      <td>True</td>\n",
       "      <td>2021-12-29</td>\n",
       "      <td>0.575536</td>\n",
       "    </tr>\n",
       "    <tr>\n",
       "      <th>2</th>\n",
       "      <td>medium</td>\n",
       "      <td>46</td>\n",
       "      <td>blue</td>\n",
       "      <td>True</td>\n",
       "      <td>2020-11-07</td>\n",
       "      <td>0.514036</td>\n",
       "    </tr>\n",
       "    <tr>\n",
       "      <th>3</th>\n",
       "      <td>big</td>\n",
       "      <td>9</td>\n",
       "      <td>yellow</td>\n",
       "      <td>False</td>\n",
       "      <td>2021-10-17</td>\n",
       "      <td>0.266284</td>\n",
       "    </tr>\n",
       "    <tr>\n",
       "      <th>4</th>\n",
       "      <td>small</td>\n",
       "      <td>30</td>\n",
       "      <td>red</td>\n",
       "      <td>True</td>\n",
       "      <td>2022-02-04</td>\n",
       "      <td>0.770092</td>\n",
       "    </tr>\n",
       "    <tr>\n",
       "      <th>...</th>\n",
       "      <td>...</td>\n",
       "      <td>...</td>\n",
       "      <td>...</td>\n",
       "      <td>...</td>\n",
       "      <td>...</td>\n",
       "      <td>...</td>\n",
       "    </tr>\n",
       "    <tr>\n",
       "      <th>99999995</th>\n",
       "      <td>big</td>\n",
       "      <td>16</td>\n",
       "      <td>green</td>\n",
       "      <td>True</td>\n",
       "      <td>2021-09-30</td>\n",
       "      <td>0.032252</td>\n",
       "    </tr>\n",
       "    <tr>\n",
       "      <th>99999996</th>\n",
       "      <td>medium</td>\n",
       "      <td>8</td>\n",
       "      <td>red</td>\n",
       "      <td>False</td>\n",
       "      <td>2022-12-30</td>\n",
       "      <td>0.659766</td>\n",
       "    </tr>\n",
       "    <tr>\n",
       "      <th>99999997</th>\n",
       "      <td>small</td>\n",
       "      <td>48</td>\n",
       "      <td>blue</td>\n",
       "      <td>True</td>\n",
       "      <td>2020-09-05</td>\n",
       "      <td>0.582637</td>\n",
       "    </tr>\n",
       "    <tr>\n",
       "      <th>99999998</th>\n",
       "      <td>medium</td>\n",
       "      <td>12</td>\n",
       "      <td>green</td>\n",
       "      <td>True</td>\n",
       "      <td>2022-11-05</td>\n",
       "      <td>0.088702</td>\n",
       "    </tr>\n",
       "    <tr>\n",
       "      <th>99999999</th>\n",
       "      <td>big</td>\n",
       "      <td>16</td>\n",
       "      <td>red</td>\n",
       "      <td>True</td>\n",
       "      <td>2021-11-06</td>\n",
       "      <td>0.507800</td>\n",
       "    </tr>\n",
       "  </tbody>\n",
       "</table>\n",
       "<p>100000000 rows × 6 columns</p>\n",
       "</div>"
      ],
      "text/plain": [
       "            size  age    team    win       date      prob\n",
       "0         medium   25   green   True 2021-04-22  0.342737\n",
       "1            big    6    blue   True 2021-12-29  0.575536\n",
       "2         medium   46    blue   True 2020-11-07  0.514036\n",
       "3            big    9  yellow  False 2021-10-17  0.266284\n",
       "4          small   30     red   True 2022-02-04  0.770092\n",
       "...          ...  ...     ...    ...        ...       ...\n",
       "99999995     big   16   green   True 2021-09-30  0.032252\n",
       "99999996  medium    8     red  False 2022-12-30  0.659766\n",
       "99999997   small   48    blue   True 2020-09-05  0.582637\n",
       "99999998  medium   12   green   True 2022-11-05  0.088702\n",
       "99999999     big   16     red   True 2021-11-06  0.507800\n",
       "\n",
       "[100000000 rows x 6 columns]"
      ]
     },
     "execution_count": 28,
     "metadata": {},
     "output_type": "execute_result"
    }
   ],
   "source": [
    "print('Reading Parquet with gzip')\n",
    "%time table = pa.parquet.read_table('test.parquet.gz')\n",
    "# table.to_pandas()"
   ]
  },
  {
   "cell_type": "code",
   "execution_count": 15,
   "id": "2194ec28",
   "metadata": {},
   "outputs": [
    {
     "name": "stdout",
     "output_type": "stream",
     "text": [
      "writing Feather\n",
      "CPU times: total: 2.22 s\n",
      "Wall time: 1.08 s\n"
     ]
    }
   ],
   "source": [
    "print('writing Feather')\n",
    "%time df.to_feather('test.feather')"
   ]
  },
  {
   "cell_type": "code",
   "execution_count": 16,
   "id": "e9bb8a86",
   "metadata": {},
   "outputs": [
    {
     "name": "stdout",
     "output_type": "stream",
     "text": [
      "Reading Feather\n",
      "CPU times: total: 1.59 s\n",
      "Wall time: 589 ms\n"
     ]
    }
   ],
   "source": [
    "print('Reading Feather')\n",
    "%time df_feather = pd.read_feather('test.feather')"
   ]
  },
  {
   "cell_type": "code",
   "execution_count": null,
   "id": "7d835d39",
   "metadata": {},
   "outputs": [],
   "source": []
  }
 ],
 "metadata": {
  "kernelspec": {
   "display_name": "Python 3 (ipykernel)",
   "language": "python",
   "name": "python3"
  },
  "language_info": {
   "codemirror_mode": {
    "name": "ipython",
    "version": 3
   },
   "file_extension": ".py",
   "mimetype": "text/x-python",
   "name": "python",
   "nbconvert_exporter": "python",
   "pygments_lexer": "ipython3",
   "version": "3.11.4"
  }
 },
 "nbformat": 4,
 "nbformat_minor": 5
}
