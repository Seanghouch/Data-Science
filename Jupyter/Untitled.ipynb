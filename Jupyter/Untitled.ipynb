{
 "cells": [
  {
   "cell_type": "code",
   "execution_count": 1,
   "id": "236669de",
   "metadata": {},
   "outputs": [],
   "source": [
    "import pypyodbc as pyodbc\n",
    "import pandas as pd"
   ]
  },
  {
   "cell_type": "code",
   "execution_count": 2,
   "id": "d1aa1f3e",
   "metadata": {},
   "outputs": [],
   "source": [
    "DRIVER = 'SQL Server'\n",
    "SERVER = '10.20.10.112'\n",
    "DATABASE = 'STGBraumat'\n",
    "UID = 'ERP.BI'\n",
    "PASS = '+21o=VBLBC@'"
   ]
  },
  {
   "cell_type": "code",
   "execution_count": 3,
   "id": "07427d7e",
   "metadata": {},
   "outputs": [],
   "source": [
    "conn = pyodbc.connect(f'DRIVER={DRIVER};Server={SERVER};Database={DATABASE};uid={UID};pwd={PASS};')"
   ]
  },
  {
   "cell_type": "code",
   "execution_count": 4,
   "id": "4b784a80",
   "metadata": {},
   "outputs": [],
   "source": [
    "sql = \"SELECT * FROM sistar_rt_tag_pushed_compression_2024\""
   ]
  },
  {
   "cell_type": "code",
   "execution_count": null,
   "id": "6e0bab6a",
   "metadata": {},
   "outputs": [
    {
     "name": "stderr",
     "output_type": "stream",
     "text": [
      "<timed exec>:1: UserWarning: pandas only supports SQLAlchemy connectable (engine/connection) or database string URI or sqlite3 DBAPI2 connection. Other DBAPI2 objects are not tested. Please consider using SQLAlchemy.\n"
     ]
    }
   ],
   "source": [
    "%time df = pd.read_sql(sql, conn)\n",
    "conn.close()"
   ]
  },
  {
   "cell_type": "code",
   "execution_count": null,
   "id": "d675a3fc",
   "metadata": {},
   "outputs": [],
   "source": [
    "df"
   ]
  },
  {
   "cell_type": "code",
   "execution_count": null,
   "id": "4adebead",
   "metadata": {},
   "outputs": [],
   "source": [
    "print('writing Parquet')\n",
    "%time df.to_parquet('test.parquet')"
   ]
  },
  {
   "cell_type": "code",
   "execution_count": null,
   "id": "d2895cee",
   "metadata": {},
   "outputs": [],
   "source": [
    "print('Reading Parquet')\n",
    "%time df_parquet = pd.read_parquet('test.parquet')"
   ]
  },
  {
   "cell_type": "code",
   "execution_count": null,
   "id": "dd9ad0f6",
   "metadata": {},
   "outputs": [],
   "source": [
    "df_parquet"
   ]
  },
  {
   "cell_type": "code",
   "execution_count": null,
   "id": "30546e2b",
   "metadata": {},
   "outputs": [],
   "source": []
  }
 ],
 "metadata": {
  "kernelspec": {
   "display_name": "Python 3 (ipykernel)",
   "language": "python",
   "name": "python3"
  },
  "language_info": {
   "codemirror_mode": {
    "name": "ipython",
    "version": 3
   },
   "file_extension": ".py",
   "mimetype": "text/x-python",
   "name": "python",
   "nbconvert_exporter": "python",
   "pygments_lexer": "ipython3",
   "version": "3.11.4"
  }
 },
 "nbformat": 4,
 "nbformat_minor": 5
}
