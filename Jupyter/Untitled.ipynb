{
 "cells": [
  {
   "cell_type": "code",
   "execution_count": 13,
   "id": "18ef6ec0",
   "metadata": {},
   "outputs": [],
   "source": [
    "import pypyodbc as pyodbc\n",
    "import pandas as pd"
   ]
  },
  {
   "cell_type": "code",
   "execution_count": 14,
   "id": "48d2a87f",
   "metadata": {},
   "outputs": [],
   "source": [
    "DRIVER = 'SQL Server'\n",
    "SERVER = '10.20.10.112'\n",
    "DATABASE = 'STGBraumat'\n",
    "UID = 'ERP.BI'\n",
    "PASS = '+21o=VBLBC@'"
   ]
  },
  {
   "cell_type": "code",
   "execution_count": 15,
   "id": "6b60dfb6",
   "metadata": {},
   "outputs": [],
   "source": [
    "conn = pyodbc.connect(f'DRIVER={DRIVER};Server={SERVER};Database={DATABASE};uid={UID};pwd={PASS};')"
   ]
  },
  {
   "cell_type": "code",
   "execution_count": 16,
   "id": "8cb2d281",
   "metadata": {},
   "outputs": [],
   "source": [
    "sql = \"SELECT * FROM sistar_rt_tag_pushed_compression_2023\""
   ]
  },
  {
   "cell_type": "code",
   "execution_count": 17,
   "id": "95f3eb6c",
   "metadata": {},
   "outputs": [
    {
     "name": "stderr",
     "output_type": "stream",
     "text": [
      "<timed exec>:1: UserWarning: pandas only supports SQLAlchemy connectable (engine/connection) or database string URI or sqlite3 DBAPI2 connection. Other DBAPI2 objects are not tested. Please consider using SQLAlchemy.\n"
     ]
    },
    {
     "name": "stdout",
     "output_type": "stream",
     "text": [
      "CPU times: total: 2min 26s\n",
      "Wall time: 4min\n"
     ]
    }
   ],
   "source": [
    "%time df = pd.read_sql(sql, conn)\n",
    "conn.close()"
   ]
  },
  {
   "cell_type": "code",
   "execution_count": 18,
   "id": "646f6adf",
   "metadata": {},
   "outputs": [
    {
     "data": {
      "text/html": [
       "<div>\n",
       "<style scoped>\n",
       "    .dataframe tbody tr th:only-of-type {\n",
       "        vertical-align: middle;\n",
       "    }\n",
       "\n",
       "    .dataframe tbody tr th {\n",
       "        vertical-align: top;\n",
       "    }\n",
       "\n",
       "    .dataframe thead th {\n",
       "        text-align: right;\n",
       "    }\n",
       "</style>\n",
       "<table border=\"1\" class=\"dataframe\">\n",
       "  <thead>\n",
       "    <tr style=\"text-align: right;\">\n",
       "      <th></th>\n",
       "      <th>tag_id</th>\n",
       "      <th>event_time</th>\n",
       "      <th>value</th>\n",
       "      <th>status</th>\n",
       "    </tr>\n",
       "  </thead>\n",
       "  <tbody>\n",
       "    <tr>\n",
       "      <th>0</th>\n",
       "      <td>1037050</td>\n",
       "      <td>2023-01-01 05:45:00.000 +00:00</td>\n",
       "      <td>1139.79</td>\n",
       "      <td>1</td>\n",
       "    </tr>\n",
       "    <tr>\n",
       "      <th>1</th>\n",
       "      <td>1037250</td>\n",
       "      <td>2023-01-01 05:45:00.000 +00:00</td>\n",
       "      <td>233.90</td>\n",
       "      <td>1</td>\n",
       "    </tr>\n",
       "    <tr>\n",
       "      <th>2</th>\n",
       "      <td>1037350</td>\n",
       "      <td>2023-01-01 05:45:00.000 +00:00</td>\n",
       "      <td>232.91</td>\n",
       "      <td>1</td>\n",
       "    </tr>\n",
       "    <tr>\n",
       "      <th>3</th>\n",
       "      <td>1037450</td>\n",
       "      <td>2023-01-01 05:45:00.000 +00:00</td>\n",
       "      <td>231.72</td>\n",
       "      <td>1</td>\n",
       "    </tr>\n",
       "    <tr>\n",
       "      <th>4</th>\n",
       "      <td>1037550</td>\n",
       "      <td>2023-01-01 05:45:00.000 +00:00</td>\n",
       "      <td>31.49</td>\n",
       "      <td>1</td>\n",
       "    </tr>\n",
       "    <tr>\n",
       "      <th>...</th>\n",
       "      <td>...</td>\n",
       "      <td>...</td>\n",
       "      <td>...</td>\n",
       "      <td>...</td>\n",
       "    </tr>\n",
       "    <tr>\n",
       "      <th>29533809</th>\n",
       "      <td>1037550</td>\n",
       "      <td>2023-10-17 02:21:00.000 +00:00</td>\n",
       "      <td>96.62</td>\n",
       "      <td>1</td>\n",
       "    </tr>\n",
       "    <tr>\n",
       "      <th>29533810</th>\n",
       "      <td>1037550</td>\n",
       "      <td>2023-10-17 02:22:00.000 +00:00</td>\n",
       "      <td>92.19</td>\n",
       "      <td>1</td>\n",
       "    </tr>\n",
       "    <tr>\n",
       "      <th>29533811</th>\n",
       "      <td>1037550</td>\n",
       "      <td>2023-10-17 02:23:00.000 +00:00</td>\n",
       "      <td>90.07</td>\n",
       "      <td>1</td>\n",
       "    </tr>\n",
       "    <tr>\n",
       "      <th>29533812</th>\n",
       "      <td>1037550</td>\n",
       "      <td>2023-10-17 02:24:00.000 +00:00</td>\n",
       "      <td>89.49</td>\n",
       "      <td>1</td>\n",
       "    </tr>\n",
       "    <tr>\n",
       "      <th>29533813</th>\n",
       "      <td>1037550</td>\n",
       "      <td>2023-10-17 02:25:00.000 +00:00</td>\n",
       "      <td>90.26</td>\n",
       "      <td>1</td>\n",
       "    </tr>\n",
       "  </tbody>\n",
       "</table>\n",
       "<p>29533814 rows × 4 columns</p>\n",
       "</div>"
      ],
      "text/plain": [
       "           tag_id                      event_time    value  status\n",
       "0         1037050  2023-01-01 05:45:00.000 +00:00  1139.79       1\n",
       "1         1037250  2023-01-01 05:45:00.000 +00:00   233.90       1\n",
       "2         1037350  2023-01-01 05:45:00.000 +00:00   232.91       1\n",
       "3         1037450  2023-01-01 05:45:00.000 +00:00   231.72       1\n",
       "4         1037550  2023-01-01 05:45:00.000 +00:00    31.49       1\n",
       "...           ...                             ...      ...     ...\n",
       "29533809  1037550  2023-10-17 02:21:00.000 +00:00    96.62       1\n",
       "29533810  1037550  2023-10-17 02:22:00.000 +00:00    92.19       1\n",
       "29533811  1037550  2023-10-17 02:23:00.000 +00:00    90.07       1\n",
       "29533812  1037550  2023-10-17 02:24:00.000 +00:00    89.49       1\n",
       "29533813  1037550  2023-10-17 02:25:00.000 +00:00    90.26       1\n",
       "\n",
       "[29533814 rows x 4 columns]"
      ]
     },
     "execution_count": 18,
     "metadata": {},
     "output_type": "execute_result"
    }
   ],
   "source": [
    "df"
   ]
  },
  {
   "cell_type": "code",
   "execution_count": 19,
   "id": "67e6a9aa",
   "metadata": {},
   "outputs": [
    {
     "name": "stdout",
     "output_type": "stream",
     "text": [
      "writing Parquet\n",
      "CPU times: total: 5.72 s\n",
      "Wall time: 5.74 s\n"
     ]
    }
   ],
   "source": [
    "print('writing Parquet')\n",
    "%time df.to_parquet('test.parquet')"
   ]
  },
  {
   "cell_type": "code",
   "execution_count": 20,
   "id": "76a0edde",
   "metadata": {},
   "outputs": [
    {
     "name": "stdout",
     "output_type": "stream",
     "text": [
      "Reading Parquet\n",
      "CPU times: total: 3.47 s\n",
      "Wall time: 1.88 s\n"
     ]
    }
   ],
   "source": [
    "print('Reading Parquet')\n",
    "%time df_parquet = pd.read_parquet('test.parquet')"
   ]
  },
  {
   "cell_type": "code",
   "execution_count": 10,
   "id": "ab0580d8",
   "metadata": {},
   "outputs": [
    {
     "data": {
      "text/html": [
       "<div>\n",
       "<style scoped>\n",
       "    .dataframe tbody tr th:only-of-type {\n",
       "        vertical-align: middle;\n",
       "    }\n",
       "\n",
       "    .dataframe tbody tr th {\n",
       "        vertical-align: top;\n",
       "    }\n",
       "\n",
       "    .dataframe thead th {\n",
       "        text-align: right;\n",
       "    }\n",
       "</style>\n",
       "<table border=\"1\" class=\"dataframe\">\n",
       "  <thead>\n",
       "    <tr style=\"text-align: right;\">\n",
       "      <th></th>\n",
       "      <th>tag_id</th>\n",
       "      <th>event_time</th>\n",
       "      <th>value</th>\n",
       "      <th>status</th>\n",
       "    </tr>\n",
       "  </thead>\n",
       "  <tbody>\n",
       "    <tr>\n",
       "      <th>0</th>\n",
       "      <td>1036850</td>\n",
       "      <td>2024-01-20 01:34:00.000 +00:00</td>\n",
       "      <td>540.20</td>\n",
       "      <td>1</td>\n",
       "    </tr>\n",
       "    <tr>\n",
       "      <th>1</th>\n",
       "      <td>1036950</td>\n",
       "      <td>2024-01-20 01:34:00.000 +00:00</td>\n",
       "      <td>737.88</td>\n",
       "      <td>1</td>\n",
       "    </tr>\n",
       "    <tr>\n",
       "      <th>2</th>\n",
       "      <td>1037050</td>\n",
       "      <td>2024-01-20 01:34:00.000 +00:00</td>\n",
       "      <td>1135.98</td>\n",
       "      <td>1</td>\n",
       "    </tr>\n",
       "    <tr>\n",
       "      <th>3</th>\n",
       "      <td>1037250</td>\n",
       "      <td>2024-01-20 01:34:00.000 +00:00</td>\n",
       "      <td>233.47</td>\n",
       "      <td>1</td>\n",
       "    </tr>\n",
       "    <tr>\n",
       "      <th>4</th>\n",
       "      <td>1037350</td>\n",
       "      <td>2024-01-20 01:34:00.000 +00:00</td>\n",
       "      <td>232.37</td>\n",
       "      <td>1</td>\n",
       "    </tr>\n",
       "    <tr>\n",
       "      <th>...</th>\n",
       "      <td>...</td>\n",
       "      <td>...</td>\n",
       "      <td>...</td>\n",
       "      <td>...</td>\n",
       "    </tr>\n",
       "    <tr>\n",
       "      <th>3869853</th>\n",
       "      <td>1086450</td>\n",
       "      <td>2024-01-01 09:31:00.000 +00:00</td>\n",
       "      <td>2979.10</td>\n",
       "      <td>1</td>\n",
       "    </tr>\n",
       "    <tr>\n",
       "      <th>3869854</th>\n",
       "      <td>1086750</td>\n",
       "      <td>2024-01-01 09:31:00.000 +00:00</td>\n",
       "      <td>5599.80</td>\n",
       "      <td>1</td>\n",
       "    </tr>\n",
       "    <tr>\n",
       "      <th>3869855</th>\n",
       "      <td>1086850</td>\n",
       "      <td>2024-01-01 09:31:00.000 +00:00</td>\n",
       "      <td>3.80</td>\n",
       "      <td>1</td>\n",
       "    </tr>\n",
       "    <tr>\n",
       "      <th>3869856</th>\n",
       "      <td>1086950</td>\n",
       "      <td>2024-01-01 09:31:00.000 +00:00</td>\n",
       "      <td>5705.80</td>\n",
       "      <td>1</td>\n",
       "    </tr>\n",
       "    <tr>\n",
       "      <th>3869857</th>\n",
       "      <td>1087050</td>\n",
       "      <td>2024-01-01 09:31:00.000 +00:00</td>\n",
       "      <td>5750.00</td>\n",
       "      <td>1</td>\n",
       "    </tr>\n",
       "  </tbody>\n",
       "</table>\n",
       "<p>3869858 rows × 4 columns</p>\n",
       "</div>"
      ],
      "text/plain": [
       "          tag_id                      event_time    value  status\n",
       "0        1036850  2024-01-20 01:34:00.000 +00:00   540.20       1\n",
       "1        1036950  2024-01-20 01:34:00.000 +00:00   737.88       1\n",
       "2        1037050  2024-01-20 01:34:00.000 +00:00  1135.98       1\n",
       "3        1037250  2024-01-20 01:34:00.000 +00:00   233.47       1\n",
       "4        1037350  2024-01-20 01:34:00.000 +00:00   232.37       1\n",
       "...          ...                             ...      ...     ...\n",
       "3869853  1086450  2024-01-01 09:31:00.000 +00:00  2979.10       1\n",
       "3869854  1086750  2024-01-01 09:31:00.000 +00:00  5599.80       1\n",
       "3869855  1086850  2024-01-01 09:31:00.000 +00:00     3.80       1\n",
       "3869856  1086950  2024-01-01 09:31:00.000 +00:00  5705.80       1\n",
       "3869857  1087050  2024-01-01 09:31:00.000 +00:00  5750.00       1\n",
       "\n",
       "[3869858 rows x 4 columns]"
      ]
     },
     "execution_count": 10,
     "metadata": {},
     "output_type": "execute_result"
    }
   ],
   "source": [
    "df_parquet"
   ]
  },
  {
   "cell_type": "code",
   "execution_count": null,
   "id": "8b4e34aa",
   "metadata": {},
   "outputs": [],
   "source": []
  }
 ],
 "metadata": {
  "kernelspec": {
   "display_name": "Python 3 (ipykernel)",
   "language": "python",
   "name": "python3"
  },
  "language_info": {
   "codemirror_mode": {
    "name": "ipython",
    "version": 3
   },
   "file_extension": ".py",
   "mimetype": "text/x-python",
   "name": "python",
   "nbconvert_exporter": "python",
   "pygments_lexer": "ipython3",
   "version": "3.11.4"
  }
 },
 "nbformat": 4,
 "nbformat_minor": 5
}
