{
 "cells": [
  {
   "cell_type": "code",
   "execution_count": 30,
   "id": "a0fadc26",
   "metadata": {},
   "outputs": [],
   "source": [
    "from pyspark import SparkContext, SparkConf\n",
    "from pyspark.sql import SparkSession, SQLContext\n",
    "import os\n",
    "import sys\n",
    "from pyspark.sql.functions import *"
   ]
  },
  {
   "cell_type": "code",
   "execution_count": 31,
   "id": "96638046",
   "metadata": {},
   "outputs": [],
   "source": [
    "database = \"STGBraumat\"\n",
    "table = \"sistar_rt_tag_pushed_compression_2024\"\n",
    "password = \"+21o=VBLBC@\"\n",
    "user = \"ERP.BI\"\n",
    "schema  = \"dbo\""
   ]
  },
  {
   "cell_type": "code",
   "execution_count": 32,
   "id": "1b0b60d8",
   "metadata": {},
   "outputs": [],
   "source": [
    "jdbc_url = f'jdbc:sqlserver://10.20.10.112:1433;database={database};encrypt=true;trustServerCertificate=true;'"
   ]
  },
  {
   "cell_type": "code",
   "execution_count": null,
   "id": "e77eab88",
   "metadata": {},
   "outputs": [],
   "source": [
    "df = spark.read \\\n",
    "    .format(\"jdbc\") \\\n",
    "    .option(\"url\", jdbc_url) \\\n",
    "    .option(\"dbtable\", table) \\\n",
    "    .option(\"user\", user) \\\n",
    "    .option(\"password\", password) \\\n",
    "    .option(\"driver\", \"com.microsoft.sqlserver.jdbc.SQLServerDriver\") \\\n",
    "    .load()"
   ]
  },
  {
   "cell_type": "code",
   "execution_count": null,
   "id": "94f6bc10",
   "metadata": {},
   "outputs": [],
   "source": [
    "df.show()"
   ]
  }
 ],
 "metadata": {
  "kernelspec": {
   "display_name": "Python 3 (ipykernel)",
   "language": "python",
   "name": "python3"
  },
  "language_info": {
   "codemirror_mode": {
    "name": "ipython",
    "version": 3
   },
   "file_extension": ".py",
   "mimetype": "text/x-python",
   "name": "python",
   "nbconvert_exporter": "python",
   "pygments_lexer": "ipython3",
   "version": "3.11.4"
  }
 },
 "nbformat": 4,
 "nbformat_minor": 5
}
